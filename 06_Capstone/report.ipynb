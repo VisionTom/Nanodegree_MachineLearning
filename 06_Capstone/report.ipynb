{
 "cells": [
  {
   "cell_type": "markdown",
   "metadata": {
    "ExecuteTime": {
     "end_time": "2016-12-29T15:09:54.081095",
     "start_time": "2016-12-29T15:09:54.071306"
    }
   },
   "source": [
    "# Machine Learning Engineer Nanodegree\n",
    "## Capstone Project - Street View House Numbers\n",
    "Thomas Wieczorek\n",
    "January 21th, 2017"
   ]
  },
  {
   "cell_type": "markdown",
   "metadata": {},
   "source": [
    "## I. Definition\n",
    "_(approx. 1-2 pages)_"
   ]
  },
  {
   "cell_type": "markdown",
   "metadata": {},
   "source": [
    "### <font color='blue'>  Project Overview\n",
    "<font color='blue'> \n",
    "In this section, look to provide a high-level overview of the project in layman’s terms. Questions to ask yourself when writing this section:\n",
    "<ol>\n",
    "<li>_Has an overview of the project been provided, such as the problem domain, project origin, and related datasets or input data?_\n",
    "<li>_Has enough background information been given so that an uninformed reader would understand the problem domain and following problem statement?_\n",
    "</ol>\n",
    "</font> \n",
    "\n",
    "This capstone-project aims to solve the problem to correctly classify housenumber, extracted from Street View images. A rule-based approach (\"Look for a certain color or pattern...) is not very promising, because the house numbers look differently: They come in all colors, different fonts, sometimes they are even one underneath the other.  \n",
    "\n",
    "![image alt >](res/Street_View.png)\n",
    "<center>_1. Example of Google Street View in Berlin [Source](https://maps.google.com/help/maps/streetview/index.html?hl=de)_</center>\n",
    "![image alt >](res/Street_View_close.png)\n",
    "<center>_2. Close up of House Number [Source](https://maps.google.com/help/maps/streetview/index.html?hl=de)_</center>\n",
    "\n",
    "The dataset was collected by Stanford University and is described as follows: _SVHN is a real-world image dataset for developing machine learning and object recognition algorithms with minimal requirement on data preprocessing and formatting. It can be seen as similar in flavor to MNIST (e.g., the images are of small cropped digits), but incorporates an order of magnitude more labeled data (over 600,000 digit images) and comes from a significantly harder, unsolved, real world problem (recognizing digits and numbers in natural scene images). SVHN is obtained from house numbers in Google Street View images._ (from http://ufldl.stanford.edu/housenumbers/)\n",
    "\n",
    "\n",
    "To solve this Computer Vision problem, the domain of Machine Learning is advisable. Especially Deep Learning has been very successful for solving Computer Vision problems like these in the latest years.\n",
    "\n"
   ]
  },
  {
   "cell_type": "markdown",
   "metadata": {},
   "source": [
    "### <font color='blue'> Problem Statement\n",
    "<font color='blue'> In this section, you will want to clearly define the problem that you are trying to solve, including the strategy (outline of tasks) you will use to achieve the desired solution. You should also thoroughly discuss what the intended solution will be for this problem. Questions to ask yourself when writing this section:\n",
    "<ol>\n",
    "<li> _Is the problem statement clearly defined? Will the reader understand what you are expecting to solve?_\n",
    "<li> _Have you thoroughly discussed how you will attempt to solve the problem?_\n",
    "<li> _Is an anticipated solution clearly defined? Will the reader understand what results you are looking for?_\n",
    "</ol>\n",
    "</font> \n",
    "\n",
    "The problem statement is to identify house numbers out of images. The images from the SVHN have been resized to a fixed resolution of 32-by-32 pixels. The file type is .mat. In addition to the images, we have the correct labels of every image.\n",
    "\n",
    "However, if the house number contains more then one digit (for example 123), the images are cropped. It is possible, that several digits are visible in the 32x32 image, the wanted digit is always centered. So the classifier only has to classify one digit.\n",
    "\n",
    "These images  illustrate several examples:\n",
    "\n",
    "![image alt >](res/Classification_Examples.png)\n",
    "<center>_3. Example of correct predictions._</center>\n",
    "\n",
    "![image alt >](res/Example_Cropping.png)\n",
    "<center>_4. Example of Cropping a 4-digit house number._</center>"
   ]
  },
  {
   "cell_type": "markdown",
   "metadata": {},
   "source": [
    "### <font color='blue'> Metrics\n",
    "<font color='blue'> In this section, you will need to clearly define the metrics or calculations you will use to measure performance of a model or result in your project. These calculations and metrics should be justified based on the characteristics of the problem and problem domain. Questions to ask yourself when writing this section:\n",
    "<ol>\n",
    "<li> _Are the metrics you’ve chosen to measure the performance of your models clearly discussed and defined?_\n",
    "<li> _Have you provided reasonable justification for the metrics chosen based on the problem and solution?_\n",
    "</ol>\n",
    "</font> \n",
    "<br><br>\n",
    "\n",
    "The metrics used for this project were **Accuracy** and the **Confusion Matrix**. The Formula for the **Accuracy** is:\n",
    "\n",
    "\\begin{align}\n",
    "{Accuracy} & = \\frac{tp+tn}{tp+tn+fp+fn} \\\\\\\\\n",
    "{tp} & : {True Positive} \\\\\n",
    "{tn} & : {True Negative} \\\\\n",
    "{fp} & : {False Positive} \\\\\n",
    "{fn} & : {False Negative} \\\\ \n",
    "\\end{align}\n",
    "<br><br>\n",
    "For my research, I plotted the Accuracy of the **Training Data**, as well as of the **Validation Data** to prevent [Overfitting](https://www.wikiwand.com/en/Overfitting). Overfitting describes the effect, if the system learns too much and \"memorize\" the training data. The result ist, that the system does not generalize very well and is not good with different images. \n",
    "\n",
    "![image alt >](res/Accuracy.png)\n",
    "<center>_4. Accuracy of Train-Data and Validation-Data._</center>\n",
    "<br>\n",
    "Overfitting can be detected by comparing the accuracy of the training and validation-set. If the validation line would be declining while the training line still increasing, it is a very good sign to detect Overfitting. The best model is usually, where the validation accuracy peaks. See this figure:\n",
    "\n",
    "![image alt >](res/Overfitting.png)\n",
    "<center>_5. Overfitting explanation [Source](https://medium.com/autonomous-agents/part-2-error-analysis-the-wild-west-algorithms-to-improve-neuralnetwork-accuracy-6121569e66a5)_</center>\n",
    "<br><br>\n",
    "\n",
    "For classification tasks like this, the accuracy or error-rate(which is _1-accuracy_) are very common metrics, see this [overview of the best classification techniques for SVHN-Dataset](http://rodrigob.github.io/are_we_there_yet/build/classification_datasets_results.html#5356484e)."
   ]
  },
  {
   "cell_type": "markdown",
   "metadata": {},
   "source": [
    "## II. Analysis\n",
    "_(approx. 2-4 pages)_"
   ]
  },
  {
   "cell_type": "markdown",
   "metadata": {},
   "source": [
    "\n",
    "\n",
    "### <font color='blue'> Data Exploration\n",
    "<font color='blue'> In this section, you will be expected to analyze the data you are using for the problem. This data can either be in the form of a dataset (or datasets), input data (or input files), or even an environment. The type of data should be thoroughly described and, if possible, have basic statistics and information presented (such as discussion of input features or defining characteristics about the input or environment). Any abnormalities or interesting qualities about the data that may need to be addressed have been identified (such as features that need to be transformed or the possibility of outliers). Questions to ask yourself when writing this section:\n",
    "<ol>\n",
    "<li>_If a dataset is present for this problem, have you thoroughly discussed certain features about the dataset? Has a data sample been provided to the reader?_\n",
    "<li> _If a dataset is present for this problem, are statistics about the dataset calculated and reported? Have any relevant results from this calculation been discussed?_\n",
    "<li> _If a dataset is **not** present for this problem, has discussion been made about the input space or input data for your problem?_\n",
    "<li> _Are there any abnormalities or characteristics about the input space or dataset that need to be addressed? (categorical variables, missing values, outliers, etc.)_\n",
    "</ol>\n",
    "</font> "
   ]
  },
  {
   "cell_type": "markdown",
   "metadata": {
    "ExecuteTime": {
     "end_time": "2017-01-08T15:26:38.741944",
     "start_time": "2017-01-08T15:26:38.734993"
    }
   },
   "source": [
    "In the following images, 8 random examples of every house number are presented: \n",
    "![image alt >](res/Examples_Housenumbers/0.png)\n",
    "![image alt >](res/Examples_Housenumbers/1.png)\n",
    "![image alt >](res/Examples_Housenumbers/2.png)\n",
    "![image alt >](res/Examples_Housenumbers/3.png)\n",
    "![image alt >](res/Examples_Housenumbers/4.png)\n",
    "![image alt >](res/Examples_Housenumbers/5.png)\n",
    "![image alt >](res/Examples_Housenumbers/6.png)\n",
    "![image alt >](res/Examples_Housenumbers/7.png)\n",
    "![image alt >](res/Examples_Housenumbers/8.png)\n",
    "![image alt >](res/Examples_Housenumbers/9.png)\n",
    "<center>_Examples of the house numbers_</center>"
   ]
  },
  {
   "cell_type": "markdown",
   "metadata": {},
   "source": [
    "The images of the data-sets have a shape of: (``<width>, <height>, <channels>, <batchsize>``), for example (32, 32, 3, 73257).\n",
    "\n",
    "For easier usage in Tensorflow, I changed the shape to (``<batchsize>, <width>, <height>, <channels>``), for example (73257, 32, 32, 3). In further documentation we will abbreviate the images with **X**\n",
    "\n",
    "The labels of the data-sets have one-dimensional shape, for example [1,5,7,8,3,6,7...], where every number represents the correct house number of the index. \n",
    "\n",
    "\n",
    "<center>\n",
    "\n",
    "| **Dataset** | **Size (``<batchsize>, <width>, <height>, <channel>``)**  |\n",
    "|------|------|\n",
    "|  X_train   | <center>(73257, 32, 32, 3) </center>| \n",
    "|  y_train   | <center>(73257,) </center>| \n",
    "|  X_test   | <center>(26032, 32, 32, 3) </center>| \n",
    "|  y_test  | <center>(26032,) </center>| \n",
    "\n",
    "</center>\n",
    "Number of training examples =\t 73257 <br>\n",
    "Number of testing examples =\t 26032 <br>\n",
    "Image data shape =\t\t         (32, 32, 3) <br>\n",
    "Number of classes =\t\t         10 "
   ]
  },
  {
   "cell_type": "markdown",
   "metadata": {},
   "source": [
    "There were no abnormalities or characteristics found, however some images are very blurry, and it is even hard for humans to identify them.\n",
    "![image alt >](res/Blurry.png)\n",
    "<center>_Example of Blurry Image_</center>\n"
   ]
  },
  {
   "cell_type": "markdown",
   "metadata": {},
   "source": [
    "### <font color='blue'>Exploratory Visualization\n",
    "<font color='blue'>In this section, you will need to provide some form of visualization that summarizes or extracts a relevant characteristic or feature about the data. The visualization should adequately support the data being used. Discuss why this visualization was chosen and how it is relevant. Questions to ask yourself when writing this section:\n",
    "<ol>\n",
    "<li> _Have you visualized a relevant characteristic or feature about the dataset or input data?_\n",
    "<li> _Is the visualization thoroughly analyzed and discussed?_\n",
    "<li> _If a plot is provided, are the axes, title, and datum clearly defined?_\n",
    "</ol>\n",
    "</font>\n"
   ]
  },
  {
   "cell_type": "markdown",
   "metadata": {},
   "source": [
    "There are 10 classes with the digits from 0-9. Originally, the zeros were labeled as '10'. To remove any irritations, I changed it to '0'.\n",
    "(https://www.wikiwand.com/en/Benford's_law). \n",
    "\n",
    "\n",
    "![image alt >](res/Labels_Histogram.png)\n",
    "<center>_Histogram of the labels_</center>\n",
    "\n",
    "\n",
    "The classes are not distributed equally: The number one is the most common and the quantity is decreasing, the higher the number. The number 0 (originally labelled as 10) is the least common number.\n",
    "\n",
    "Interestingly, the distribution seems to follow [Benford's Law](https://en.wikipedia.org/wiki/Benford's_law), _\"also called the **first-digit law**, is an observation about the frequency distribution of leading digits in many real-life sets of numerical data. The law states that in many naturally occurring collections of numbers, the leading significant digit is likely to be small.\"_\n",
    "\n",
    "![image alt >](res/Benfords_Law.png)\n",
    "<center>_Benford's Law for comparision [Source](https://en.wikipedia.org/wiki/Benford's_law)_</center>"
   ]
  },
  {
   "cell_type": "markdown",
   "metadata": {},
   "source": [
    "### <font color='blue'>Algorithms and Techniques\n",
    "<font color='blue'>In this section, you will need to discuss the algorithms and techniques you intend to use for solving the problem. You should justify the use of each one based on the characteristics of the problem and the problem domain. Questions to ask yourself when writing this section:\n",
    "<ol>\n",
    "<li> _Are the algorithms you will use, including any default variables/parameters in the project clearly defined?_\n",
    "<li> _Are the techniques to be used thoroughly discussed and justified?_\n",
    "<li> _Is it made clear how the input data or datasets will be handled by the algorithms and techniques chosen?_\n",
    "</ol>\n",
    "</font>"
   ]
  },
  {
   "cell_type": "markdown",
   "metadata": {},
   "source": [
    "For solving the classification problem I will use **Deep Learning techniques**, to be more precisely: **Convolutional Neural Networks (CNN)**. CNN's are very common for image recognition, which is the reason why they were used in this project. CNN's are based on different layers of different types. In our architecture, three layer types are used: \n",
    "- Convolutions\n",
    "- Subsampling\n",
    "- Fully connected Layer\n",
    "\n",
    "Example of Convolutions:\n",
    "\n",
    "![image alt >](res/Conv.jpg)\n",
    "<center>_Example of Convolutions [Source](https://developer.apple.com/library/content/documentation/Performance/Conceptual/vImage/ConvolutionOperations/ConvolutionOperations.html)_</center>\n",
    "\n",
    "Example of Pooling (it is Max pooling):\n",
    "\n",
    "![image alt >](res/pool.png)\n",
    "<center>_Example of Convolutions [Source](https://developer.apple.com/library/content/documentation/Performance/Conceptual/vImage/ConvolutionOperations/ConvolutionOperations.html)_</center>\n",
    "\n",
    "Finally, the high-level reasoning in the neural network is done via fully connected layers. \n",
    "\n",
    "<br><br>\n",
    "\n",
    "As architecture I will use [LeNET](http://vision.stanford.edu/cs598_spring07/papers/Lecun98.pdf), which achieves good results for computer vision classification problems.\n",
    "\n",
    "![image alt >](res/lenet.png)\n",
    "<center>_LeNet Architecture [Source](http://yann.lecun.com/exdb/publis/pdf/lecun-01a.pdf)_</center>\n",
    "\n",
    "\n",
    "As Optimizer, I will use the [AdamOptimizer](https://www.tensorflow.org/api_docs/python/train/optimizers#AdamOptimizer). The benefit of AdamOptimizer is, that it controls the learning rate itself, which improves in speed and finding an optimum [See Paper](https://arxiv.org/pdf/1412.6980v8.pdf).\n",
    "\n",
    "To reduce Overfitting, I will use [Dropout](https://www.cs.toronto.edu/~hinton/absps/JMLRdropout.pdf). The idea behind Dropout is interesting: If you deactivate some neurons during the learning process, other neurons have to compensate for the missing neurons. This results in a system, which is very stable.\n",
    "\n",
    "**Default Parameter:**\n",
    "- Normalizing = Off\n",
    "- AdamOptimizer with Learning Rate = 0.001\n",
    "- EPOCHS = 10\n",
    "- BATCH_SIZE = 50\n",
    "- Dropout Rate = 0.5"
   ]
  },
  {
   "cell_type": "markdown",
   "metadata": {},
   "source": [
    "###  <font color='blue'>Benchmark\n",
    " <font color='blue'>In this section, you will need to provide a clearly defined benchmark result or threshold for comparing across performances obtained by your solution. The reasoning behind the benchmark (in the case where it is not an established result) should be discussed. Questions to ask yourself when writing this section:\n",
    "<ol>\n",
    "<li> _Has some result or value been provided that acts as a benchmark for measuring performance?_\n",
    "<li> _Is it clear how this result or value was obtained (whether by data or by hypothesis)?_\n",
    "</ol>\n",
    "</font>"
   ]
  },
  {
   "cell_type": "markdown",
   "metadata": {},
   "source": [
    "As described, I will use **Accuracy** of the test set as my metric. For my benchmark I am using the [original paper from Stanford/Google by Andrew Ng et al](http://ufldl.stanford.edu/housenumbers/nips2011_housenumbers.pdf)\n",
    "\n",
    "![image alt >](res/Benchmark.png)\n",
    "<center>Benchmark from [original paper from Stanford/Google by Andrew Ng et al](http://ufldl.stanford.edu/housenumbers/nips2011_housenumbers.pdf)</center>"
   ]
  },
  {
   "cell_type": "markdown",
   "metadata": {},
   "source": [
    "## III. Methodology\n",
    "_(approx. 3-5 pages)_\n",
    "\n",
    "###  <font color='blue'>Data Preprocessing\n",
    "<font color='blue'>In this section, all of your preprocessing steps will need to be clearly documented, if any were necessary. From the previous section, any of the abnormalities or characteristics that you identified about the dataset will be addressed and corrected here. Questions to ask yourself when writing this section:\n",
    "<ol>\n",
    "<li> _If the algorithms chosen require preprocessing steps like feature selection or feature transformations, have they been properly documented?_\n",
    "<li> _Based on the **Data Exploration** section, if there were abnormalities or characteristics that needed to be addressed, have they been properly corrected?_\n",
    "<li> _If no preprocessing is needed, has it been made clear why?_\n",
    "</ol>\n",
    "</font>"
   ]
  },
  {
   "cell_type": "markdown",
   "metadata": {},
   "source": [
    "For preprocessing, I used [Histogram equalization](http://docs.opencv.org/3.1.0/d5/daf/tutorial_py_histogram_equalization.html). \n",
    "\n",
    "_Consider an image whose pixel values are confined to some specific range of values only. For eg, brighter image will have all pixels confined to high values. But a good image will have pixels from all regions of the image. So you need to stretch this histogram to either ends (as given in below image, from wikipedia) and that is what Histogram Equalization does (in simple words). This normally improves the contrast of the image._ (from http://docs.opencv.org/3.1.0/d5/daf/tutorial_py_histogram_equalization.html)"
   ]
  },
  {
   "cell_type": "markdown",
   "metadata": {},
   "source": [
    "![image alt >](res/Histogram_Equalization.png)\n",
    "<center>_Example of Blurry Image [Source](http://docs.opencv.org/3.1.0/d5/daf/tutorial_py_histogram_equalization.html)_</center>\n"
   ]
  },
  {
   "cell_type": "markdown",
   "metadata": {},
   "source": [
    "In addition to that, I used [One Hot Encoding](https://www.wikiwand.com/en/One-hot) for the labels. For every possible house number, there will be one additional column with a boolean value.\n",
    "<ol>\n",
    "<li>The number 0 is represented as: [1,0,0,0,0,0,0,0,0,0,0]\n",
    "<li>The number 3 is represented as: [0,0,0,1,0,0,0,0,0,0,0]\n",
    "<li>The number 9 is represented as: [0,0,0,0,0,0,0,0,0,0,1]\n",
    "</ol>\n",
    "\n",
    "The following picture explains One-hot encoding with a different setting:"
   ]
  },
  {
   "cell_type": "markdown",
   "metadata": {},
   "source": [
    "![image alt >](res/OneHot.jpg)\n",
    "<center>_Example of Blurry Image [Source](http://pt.slideshare.net/Hadoop_Summit/machine-learning-on-hadoop-data-lakes)_</center>"
   ]
  },
  {
   "cell_type": "markdown",
   "metadata": {},
   "source": [
    "As another way to prevent Overfitting, I splitted the training set into 2 seperate sets: Training and Validation set.\n",
    "\n",
    "| **Dataset** | **Size (``<batchsize>, <width>, <height>, <channel>``)**  |\n",
    "|------|------|\n",
    "|  Train size:    | <center>(49082, 32, 32, 3) </center>| \n",
    "|  Validiation size:   | <center>(24175, 32, 32, 3) </center>| \n",
    "|  Test size: \t   | <center>(26032, 32, 32, 3) </center>| \n",
    "\n",
    "\n",
    "</center>"
   ]
  },
  {
   "cell_type": "markdown",
   "metadata": {},
   "source": [
    "### <font color='blue'>Implementation\n",
    "<font color='blue'>In this section, the process for which metrics, algorithms, and techniques that you implemented for the given data will need to be clearly documented. It should be abundantly clear how the implementation was carried out, and discussion should be made regarding any complications that occurred during this process. Questions to ask yourself when writing this section:\n",
    "<ol>\n",
    "<li> _Is it made clear how the algorithms and techniques were implemented with the given datasets or input data?_\n",
    "<li> _Were there any complications with the original metrics or techniques that required changing prior to acquiring a solution?_\n",
    "<li> _Was there any part of the coding process (e.g., writing complicated functions) that should be documented?_\n",
    "</ol>\n",
    "</font>"
   ]
  },
  {
   "cell_type": "markdown",
   "metadata": {},
   "source": [
    "The whole implementation can be found [here](https://github.com/VisionTom/Nanodegree_MachineLearning/blob/master/06_Capstone/capstone.ipynb).\n",
    "\n",
    "The implementation was done in Python with jupyter notebook. The most important frameworks were\n",
    "- cv2\n",
    "- scipy\n",
    "- sklearn\n",
    "- tensorflow\n",
    "- and several more\n",
    "\n",
    "The most important parts of the implementations are the following:"
   ]
  },
  {
   "cell_type": "markdown",
   "metadata": {},
   "source": [
    "### Normalizing, using Histogram equalization"
   ]
  },
  {
   "cell_type": "code",
   "execution_count": null,
   "metadata": {
    "collapsed": true
   },
   "outputs": [],
   "source": [
    "def normalize_YUV(img):\n",
    "    yuv = cv2.cvtColor(img, cv2.COLOR_RGB2YUV)\n",
    "    yuv[:,:,0] = cv2.equalizeHist(yuv[:,:,0])\n",
    "    return cv2.cvtColor(yuv, cv2.COLOR_YUV2RGB) "
   ]
  },
  {
   "cell_type": "markdown",
   "metadata": {},
   "source": [
    "### LeNet architecture, including dropout"
   ]
  },
  {
   "cell_type": "code",
   "execution_count": null,
   "metadata": {
    "collapsed": true
   },
   "outputs": [],
   "source": [
    "def LeNet(x, keep_prob):\n",
    "\n",
    "    # 28x28x6\n",
    "    conv1_W = tf.Variable(tf.truncated_normal([5, 5, 3, 6], stddev = 0.01))\n",
    "    conv1_b = tf.Variable(tf.zeros(6))\n",
    "    conv1 = tf.nn.conv2d(x, conv1_W, strides=[1, 1, 1, 1], padding='VALID') + conv1_b\n",
    "\n",
    "    conv1 = tf.nn.relu(conv1)\n",
    "\n",
    "    # 14x14x6\n",
    "    conv1 = tf.nn.max_pool(conv1, ksize=[1, 2, 2, 1], strides=[1, 2, 2, 1], padding='VALID')\n",
    "\n",
    "    # 10x10x16\n",
    "    conv2_W = tf.Variable(tf.truncated_normal(shape=(5, 5, 6, 16),stddev = 0.01))\n",
    "    conv2_b = tf.Variable(tf.zeros(16))\n",
    "    conv2 = tf.nn.conv2d(conv1, conv2_W, strides=[1, 1, 1, 1], padding='VALID') + conv2_b\n",
    "\n",
    "    conv2 = tf.nn.relu(conv2)\n",
    "\n",
    "    # 5x5x16\n",
    "    conv2 = tf.nn.max_pool(conv2, ksize=[1, 2, 2, 1], strides=[1, 2, 2, 1], padding='VALID')   \n",
    "\n",
    "    # Flatten\n",
    "    fc1 = flatten(conv2)\n",
    "    # (5 * 5 * 16, 120)\n",
    "\n",
    "    fc1_W = tf.Variable(tf.truncated_normal([400,120],stddev = 0.01))\n",
    "    fc1_b = tf.Variable(tf.zeros(120))\n",
    "    fc1 = tf.matmul(fc1, fc1_W) + fc1_b\n",
    "    fc1 = tf.nn.relu(fc1)\n",
    "    \n",
    "    #Dropout\n",
    "    fc1 = tf.nn.dropout(fc1, keep_prob)\n",
    "    \n",
    "    fc2_W = tf.Variable(tf.truncated_normal(shape=(120, n_classes), stddev = 0.01))\n",
    "    fc2_b = tf.Variable(tf.zeros(n_classes))\n",
    "    return tf.matmul(fc1, fc2_W) + fc2_b"
   ]
  },
  {
   "cell_type": "markdown",
   "metadata": {},
   "source": [
    "### Using Tensorflow for Training:"
   ]
  },
  {
   "cell_type": "code",
   "execution_count": null,
   "metadata": {
    "collapsed": true
   },
   "outputs": [],
   "source": [
    "if __name__ == '__main__':\n",
    "    if LEARN_MODUS:\n",
    "        with tf.Session() as sess:\n",
    "            sess.run(tf.global_variables_initializer())\n",
    "            steps_per_epoch = len(X_train) // BATCH_SIZE\n",
    "            num_examples = steps_per_epoch * BATCH_SIZE\n",
    "\n",
    "            # Train model\n",
    "            for i in range(EPOCHS):\n",
    "                for step in range(steps_per_epoch):\n",
    "                    #Calculate next Batch\n",
    "                    batch_start = step * BATCH_SIZE\n",
    "                    batch_end = (step + 1) * BATCH_SIZE\n",
    "                    batch_x = X_train[batch_start:batch_end] \n",
    "                    batch_y = y_train[batch_start:batch_end]\n",
    "                    \n",
    "                    #Run Training\n",
    "                    loss = sess.run(train_op, feed_dict={x: batch_x, y: batch_y, keep_prob: 0.5})\n",
    "\n",
    "                #Calculate Training Loss and Accuracy\n",
    "                train_loss, train_acc = eval_data(X_train, y_train)\n",
    "                print(\"EPOCH {} ...\".format(i+1))\n",
    "                print(\"Training loss = {:.3f}\".format(train_loss))\n",
    "                print(\"Training accuracy = {:.3f}\".format(train_acc))\n",
    "                train_losses.append(train_loss)\n",
    "                train_accuracies.append(train_acc)\n",
    "                \n",
    "                #Calculate Validation Loss and Accuracy\n",
    "                val_loss, val_acc = eval_data(X_val, y_val)\n",
    "                print(\"EPOCH {} ...\".format(i+1))\n",
    "                print(\"Validation loss = {:.3f}\".format(val_loss))\n",
    "                print(\"Validation accuracy = {:.3f}\".format(val_acc))\n",
    "                val_losses.append(val_loss)\n",
    "                val_accuracies.append(val_acc)\n",
    "                \n",
    "                #Calculate Test Loss and Accuracy (Should only be done once at the end, because of survivor bias)\n",
    "                test_loss, test_acc = eval_data(X_test, y_test)\n",
    "                print(\"EPOCH {} ...\".format(i+1))\n",
    "                print(\"Test loss = {:.3f}\".format(test_loss))\n",
    "                print(\"Test accuracy = {:.3f}\".format(test_acc))\n",
    "                test_losses.append(test_loss)\n",
    "                test_accuracies.append(test_acc)\n",
    "            try:\n",
    "                saver\n",
    "            except NameError:\n",
    "                saver = tf.train.Saver()\n",
    "            saver.save(sess, 'foo')\n",
    "            print(\"Model saved\")\n",
    "               "
   ]
  },
  {
   "cell_type": "markdown",
   "metadata": {},
   "source": [
    "One difficulty that occured during coding were several Out of Memory Errors, which are very cryptic in TensorFlow and hard to debug. I implemented batch learning and batch validation, which improved the stability of the system."
   ]
  },
  {
   "cell_type": "markdown",
   "metadata": {},
   "source": [
    "\n",
    "### <font color='blue'>Refinement\n",
    "<font color='blue'>In this section, you will need to discuss the process of improvement you made upon the algorithms and techniques you used in your implementation. For example, adjusting parameters for certain models to acquire improved solutions would fall under the refinement category. Your initial and final solutions should be reported, as well as any significant intermediate results as necessary. Questions to ask yourself when writing this section:\n",
    "<ol>\n",
    "<li> _Has an initial solution been found and clearly reported?_\n",
    "<li> _Is the process of improvement clearly documented, such as what techniques were used?_\n",
    "<li> _Are intermediate and final solutions clearly reported as the process is improved?_\n",
    "</ol>\n",
    "</font>\n"
   ]
  },
  {
   "cell_type": "markdown",
   "metadata": {},
   "source": [
    "As already described, the initial solution had the parameter:\n",
    "\n",
    "- Normalizing = Off\n",
    "- AdamOptimizer with Learning Rate = 0.001\n",
    "- EPOCHS = 10\n",
    "- BATCH_SIZE = 50\n",
    "- Dropout Rate = 0.5\n",
    "\n",
    "The result on Training accuracy is: 0.890\n",
    "The result on Validation accuracy is: 0.862"
   ]
  },
  {
   "cell_type": "markdown",
   "metadata": {},
   "source": [
    "The process to further refine the system and the parameter is **trial and error**. I changed the parameters and looked if the accuracy of the validation set improved."
   ]
  },
  {
   "cell_type": "markdown",
   "metadata": {},
   "source": [
    "**1) EPOCHS**\n",
    "\n",
    "| **EPOCHS** | Learning_Rate  | BATCH_SIZE | Dropout Rate | Normalisation | Training Acc | Validation Acc | Best score\n",
    "|------|------|------|------|------|------|\n",
    "|   **10**  | 0.001 | 50 | 0.5 | ON | 0.857 | 0.838 |\n",
    "|   **25**  | 0.001 | 50 | 0.5 | ON | 0.884 | 0.856 |\n",
    "|   **50**  | 0.001 | 50 | 0.5 | ON | 0.890 | 0.862 |\n",
    "|   **75**  | 0.001 | 50 | 0.5 | ON | 0.908 | 0.870 | **Best** |\n",
    "|   **100**  | 0.001 | 50 | 0.5 | ON | 0.904 | 0.867 |\n",
    "\n",
    "**Result: Overfitting is visible above 75 epochs.**\n",
    "\n",
    "**2,3) Learning Rate**\n",
    "\n",
    "| EPOCHS | **Learning_Rate**  | BATCH_SIZE | Dropout Rate | Normalisation | Training Acc | Validation Acc | Best score\n",
    "|------|------|------|------|------|------|\n",
    "|   10  | **0.0005** | 50 | 0.5 | ON | 0.865 | 0.861 |\n",
    "|   25  | **0.0005** | 50 | 0.5 | ON | 0.857 | 0.838 |\n",
    "|   10  | **0.0002** | 50 | 0.5 | ON | 0.887 | 0.866 |\n",
    "|   25  | **0.0002** | 50 | 0.5 | ON | 0.919 | 0.883 | **Best** |\n",
    "\n",
    "**Result: Learning Rate: The lower, the better.**\n",
    "\n",
    "\n",
    "**4,5) Batch_Size**\n",
    "\n",
    "| EPOCHS | Learning_Rate  | **BATCH_SIZE** | Dropout Rate | Normalisation | Training Acc | Validation Acc | Best score\n",
    "|------|------|------|------|------|------|\n",
    "|   10  | 0.0002 | **25** | 0.5 | ON | 0.913 | 0.890 |\n",
    "|   25  | 0.0002 | **25** | 0.5 | ON | 0.951 | 0.912 | **Best all time**\n",
    "|   10  | 0.0002 | **75** | 0.5 | ON | 0.904 | 0.883 |\n",
    "|   25  | 0.0002 | **75** | 0.5 | ON | 0.934 | 0.898 |\n",
    "\n",
    "**Result: Batch Size: The lower, the better.**\n",
    "\n",
    "**6,7) Dropout Rate**\n",
    "\n",
    "| EPOCHS | Learning_Rate  | BATCH_SIZE | **Dropout Rate** | Normalisation | Training Acc | Validation Acc | Best score\n",
    "|------|------|------|------|------|------|\n",
    "|   10  | 0.0002 | 25 | **0.25** | ON | 0.850 | 0.840 |\n",
    "|   25  | 0.0002 | 25 | **0.25** | ON | 0.867 | 0.853 |\n",
    "|   10  | 0.0002 | 25 | **0.5** | ON | 0.913 | 0.890 |\n",
    "|   25  | 0.0002 | 25 | **0.5** | ON | 0.951 | 0.912 | **Best all time**\n",
    "|   10  | 0.0002 | 25 | **0.75** | ON | 0.922 | 0.888 |\n",
    "|   25  | 0.0002 | 25 | **0.75** | ON | 0.960 | 0.906 |\n",
    "\n",
    "**Result: Droprate 0.5 was best.**\n",
    "\n",
    "**8) Normalisation**\n",
    "\n",
    "| EPOCHS | Learning_Rate  | BATCH_SIZE | Dropout Rate | **Normalisation** | Training Acc | Validation Acc | Best score\n",
    "|------|------|------|------|------|------|\n",
    "|   10  | 0.0002 | 25 | 0.5 | **OFF** | 0.886 | 0.867 |\n",
    "|   25  | 0.0002 | 25 | 0.5 | **OFF** | 0.924 | 0.890 |\n",
    "|   10  | 0.0002 | 25 | 0.5 | **ON** | 0.913 | 0.890 |\n",
    "|   25  | 0.0002 | 25 | 0.5 | **ON** | 0.951 | 0.912 | **Best all time**\n",
    "\n",
    "**Result: Without Normalisation is worse.**\n",
    "\n",
    "The **final parameters** are:\n",
    "\n",
    "| EPOCHS | Learning_Rate  | BATCH_SIZE | Dropout Rate | **Normalisation** | Training Acc | Validation Acc | Best score\n",
    "|------|------|------|------|------|------|\n",
    "|   25  | 0.0002 | 25 | 0.5 | **ON** | 0.951 | 0.912 | **Best all time**"
   ]
  },
  {
   "cell_type": "markdown",
   "metadata": {},
   "source": [
    "## IV. Results\n",
    "_(approx. 2-3 pages)_\n",
    "\n",
    "### <font color='blue'>Model Evaluation and Validation\n",
    "<font color='blue'>In this section, the final model and any supporting qualities should be evaluated in detail. It should be clear how the final model was derived and why this model was chosen. In addition, some type of analysis should be used to validate the robustness of this model and its solution, such as manipulating the input data or environment to see how the model’s solution is affected (this is called sensitivity analysis). Questions to ask yourself when writing this section:\n",
    "<ol>\n",
    "<li> _Is the final model reasonable and aligning with solution expectations? Are the final parameters of the model appropriate?_\n",
    "<li> _Has the final model been tested with various inputs to evaluate whether the model generalizes well to unseen data?_\n",
    "<li> _Is the model robust enough for the problem? Do small perturbations (changes) in training data or the input space greatly affect the results?_\n",
    "<li> _Can results found from the model be trusted?_\n",
    "<ol>\n",
    "</font>"
   ]
  },
  {
   "cell_type": "markdown",
   "metadata": {},
   "source": [
    "** Final Parameter**\n",
    "\n",
    "| EPOCHS | Learning_Rate  | BATCH_SIZE | Dropout Rate | **Normalisation** | Training Acc | Validation Acc \n",
    "|------|------|------|------|------|------|\n",
    "|   25  | 0.0002 | 25 | 0.5 | **ON** | 0.951 | 0.912 \n",
    "\n",
    "The final parameter were found by trial and error. Another (more structured way) to find the best parameter is [grid search](http://scikit-learn.org/stable/modules/grid_search.html). However, grid search takes a lot of time and computer power, that is why it was not used for this. For the same reason, I only used EPOCHS=25. In addition to faster computation, I reduce overfitting by limiting EPOCHS to 25.\n",
    "\n",
    "**Test-Set**\n",
    "\n",
    "To evaluate the model, I used the test-set for the first time. The precicion for the test set is: **0.901**\n",
    "\n",
    "**Further Model Evaluation and Validation**\n",
    "\n",
    "To get a better estimation for the test accuracy, the evaluation was run **five** times with the same parameters. \n",
    "\n",
    "\n",
    "| testrun | EPOCHS | Learning_Rate  | BATCH_SIZE | Dropout Rate | **Normalisation** | Training Acc | Validation Acc | Test Acc\n",
    "|------|------|------|------|------|------|------|\n",
    "|#1|   25  | 0.0002 | 25 | 0.5 | ON | 0.951 | 0.912 | **0.891**\n",
    "|#2|   25  | 0.0002 | 25 | 0.5 | ON | 0.926 | 0.890 | **0.835**\n",
    "|#3|   25  | 0.0002 | 25 | 0.5 | ON | 0.944 | 0.901 | **0.854**\n",
    "|#4|   25  | 0.0002 | 25 | 0.5 | ON | 0.944 | 0.905 | **0.848**\n",
    "|#5|   25  | 0.0002 | 25 | 0.5 | ON | 0.944 | 0.905 | **0.849**\n",
    "|**Average**|   25  | 0.0002 | 25 | 0.5 | ON | 0.942 | 0.903 | **0.855 **\n",
    "\n",
    "\n",
    "The notebooks with the results were saved in the capstone.ipynb to capstone5.ipynb. The first testrun was better than all the others. One reason for this could be simply due to luck, while testing a lot of different parameters. This bias is called [Survivorship Bias](https://www.wikiwand.com/en/Survivorship_bias). A way to improve the validation and the statistical significance is to use [cross-validation](http://scikit-learn.org/stable/modules/cross_validation.html). However, this takes a lot of time and computer power, which is why it is not used here."
   ]
  },
  {
   "cell_type": "markdown",
   "metadata": {},
   "source": [
    "**Second run:**\n",
    "EPOCH 25 ...\n",
    "Training loss = 0.247\n",
    "Training accuracy = 0.926\n",
    "EPOCH 25 ...\n",
    "Validation loss = 0.379\n",
    "Validation accuracy = 0.890\n",
    "EPOCH 25 ...\n",
    "Test loss = 0.573\n",
    "Test accuracy = 0.835\n",
    "\n",
    "**Third run:**\n",
    "EPOCH 25 ...\n",
    "Training loss = 0.186\n",
    "Training accuracy = 0.944\n",
    "EPOCH 25 ...\n",
    "Validation loss = 0.342\n",
    "Validation accuracy = 0.901\n",
    "EPOCH 25 ...\n",
    "Test loss = 0.545\n",
    "Test accuracy = 0.854\n",
    "\n",
    "**Forth run:**\n",
    "EPOCH 25 ...\n",
    "Training loss = 0.195\n",
    "Training accuracy = 0.944\n",
    "EPOCH 25 ...\n",
    "Validation loss = 0.347\n",
    "Validation accuracy = 0.904\n",
    "EPOCH 25 ...\n",
    "Test loss = 0.557\n",
    "Test accuracy = 0.848\n",
    "\n",
    "**Fifth run:**\n",
    "EPOCH 25 ...\n",
    "Training loss = 0.191\n",
    "Training accuracy = 0.944\n",
    "EPOCH 25 ...\n",
    "Validation loss = 0.343\n",
    "Validation accuracy = 0.905\n",
    "EPOCH 25 ...\n",
    "Test loss = 0.546\n",
    "Test accuracy = 0.849\n",
    "\n",
    "**Sixth run:**\n",
    "EPOCH 25 ...\n",
    "Training loss = 0.235\n",
    "Training accuracy = 0.932\n",
    "EPOCH 25 ...\n",
    "Validation loss = 0.371\n",
    "Validation accuracy = 0.894\n",
    "EPOCH 25 ...\n",
    "Test loss = 0.585\n",
    "Test accuracy = 0.834\n",
    "\n"
   ]
  },
  {
   "cell_type": "markdown",
   "metadata": {},
   "source": [
    "### <font color='blue'>Justification\n",
    "<font color='blue'>In this section, your model’s final solution and its results should be compared to the benchmark you established earlier in the project using some type of statistical analysis. You should also justify whether these results and the solution are significant enough to have solved the problem posed in the project. Questions to ask yourself when writing this section:\n",
    "<ol>\n",
    "<li> _Are the final results found stronger than the benchmark result reported earlier?_\n",
    "<li> _Have you thoroughly analyzed and discussed the final solution?_\n",
    "<li> _Is the final solution significant enough to have solved the problem?_\n",
    "</ol>\n",
    "</font>\n",
    "\n",
    "![image alt >](res/Benchmark.png)\n",
    "<center>Benchmark from [original paper from Stanford/Google by Andrew Ng et al](http://ufldl.stanford.edu/housenumbers/nips2011_housenumbers.pdf)</center>\n",
    "\n",
    "With an accuracy of 85.5%, the results are stronger than the algorithms \"Binary Features (WDCH) and \"HOG\", however it is worse than K-Means and Stacked Sparse Auto-Encoders. It is well below Human Performance."
   ]
  },
  {
   "cell_type": "markdown",
   "metadata": {},
   "source": [
    "## V. Conclusion\n",
    "_(approx. 1-2 pages)_\n",
    "\n",
    "### <font color='blue'>Free-Form Visualization\n",
    "<font color='blue'>In this section, you will need to provide some form of visualization that emphasizes an important quality about the project. It is much more free-form, but should reasonably support a significant result or characteristic about the problem that you want to discuss. Questions to ask yourself when writing this section:\n",
    "<ol>\n",
    "<li> _Have you visualized a relevant or important quality about the problem, dataset, input data, or results?_\n",
    "<li> _Is the visualization thoroughly analyzed and discussed?_\n",
    "<li> _If a plot is provided, are the axes, title, and datum clearly defined?_\n",
    "</font>\n",
    "\n",
    "To get a better understanding of the model, it is interesting how the model would perform on singular classes. Are there any numbers, which are mixed up regularly? \n",
    "\n",
    "One way to get a better understanding of the performance is a **Confusion Matrix**. This helps to identify problems with certain classes (for example the number 3 always get mixed up with 8, because of the similarity). \n",
    "\n",
    "![image alt >](res/ConfusionMatrix.png)\n",
    "<center>_6. Confusion Matrix_</center>\n",
    "<br><br>\n",
    "\n",
    "The Confusion Matrix gives a detailed overview about misclassed house numbers. House numbers with the true label '8' are most often confused with the numbers 6 and 3. The reason is, because these numbers look similar, only a few strokes different.\n",
    "\n",
    "Another fact that can be derived from this chart, is that most of the time, the results are correct. This can be seen in the diagonal line, where \"True label\" is the same as \"Predicted label\". "
   ]
  },
  {
   "cell_type": "markdown",
   "metadata": {},
   "source": [
    "### <font color='blue'>Reflection\n",
    "<font color='blue'>In this section, you will summarize the entire end-to-end problem solution and discuss one or two particular aspects of the project you found interesting or difficult. You are expected to reflect on the project as a whole to show that you have a firm understanding of the entire process employed in your work. Questions to ask yourself when writing this section:\n",
    "<ol>\n",
    "<li> _Have you thoroughly summarized the entire process you used for this project?_\n",
    "<li> _Were there any interesting aspects of the project?_\n",
    "<li> _Were there any difficult aspects of the project?_\n",
    "<li> _Does the final model and solution fit your expectations for the problem, and should it be used in a general setting to solve these types of problems?_\n",
    "</ol>\n",
    "</font>\n",
    "\n",
    "First, to get a basic understanding of the problem, the data was thoroughly **analyzed**: samples of the house-number pictures, the distribution, the labels. After this similar tasks and papers were examined, to get a benchmark and additional knowledge. \n",
    "\n",
    "After this, the data was **preprocessed**: the label 10 was changed to 0, because pictures of this labels displayed a 0. In addition to this, the labels were one-hot encoded. Then the pictures were optimized for machine learning, using histogram equalization. Finally, the data was splitted into Train-, Test- and Validationset\n",
    "\n",
    "As a classifying algorithm, **Convolutional Neural Network** (Deep Learning) based on Tensorflow was used. As architecture **LeNET** was implemented, which achieves good results for computer vision classification problems and does not take too much time to learn.\n",
    "\n",
    "To optimize the parameters, I used trial and error on the validation set and resulted in a system with an accuracy of **85.5 on the testset**.\n",
    "\n",
    "One interesting aspect was the analysis of mistakes: Similar to humans, the model sometimes confused \"similar numbers\", like 3, 8 or 6. A difficult aspect (and very time consuming) is fine tuning the parameters. \n",
    "\n",
    "In summary, the model fit my expectation for the problem and this approach is recommended for these types of problems.\n"
   ]
  },
  {
   "cell_type": "markdown",
   "metadata": {},
   "source": [
    "### <font color='blue'>Improvement\n",
    "<font color='blue'>In this section, you will need to provide discussion as to how one aspect of the implementation you designed could be improved. As an example, consider ways your implementation can be made more general, and what would need to be modified. You do not need to make this improvement, but the potential solutions resulting from these changes are considered and compared/contrasted to your current solution. Questions to ask yourself when writing this section:\n",
    "<ol>\n",
    "<li> _Are there further improvements that could be made on the algorithms or techniques you used in this project?_\n",
    "<li> _Were there algorithms or techniques you researched that you did not know how to implement, but would consider using if you knew how?_\n",
    "<li> _If you used your final solution as the new benchmark, do you think an even better solution exists?_\n",
    "</ol>\n",
    "</font>\n",
    "\n",
    "There are a lot of ways, to improve the described system:\n",
    "- Generating more data could be a good way to improve the accuracy. One way is to increase the dataset by rotating, stretching or distorting the images. By this way, the imbalance of the occurence of the house numbers could be fixed.\n",
    "- Using grid search and cross-validation for improving the parameters\n",
    "- A more complex CNN-architecture probably would improve the accuracy. Examples would be [AlexNet](https://papers.nips.cc/paper/4824-imagenet-classification-with-deep-convolutional-neural-networks.pdf) or [GoogleNet](https://papers.nips.cc/paper/4824-imagenet-classification-with-deep-convolutional-neural-networks.pdf).\n",
    "\n",
    "One technique that would be very interesting is the detection of the position of house numbers in high-resolution images. I am currently enrolled in the (Self Driving Car-Nanodegree)[https://de.udacity.com/course/self-driving-car-engineer-nanodegree--nd013/], where these techniques will be taught. By that, one could detect and classify house numbers in random Google Streetview images.\n",
    "\n",
    "The problem is often used for Machine Learning papers and there are a lot of systems, which outperform my system. Using the above mentioned AlexNet and GoogleNet, the highest result in the SHVN-dataset was achieved by (Chen-Yu Lee, Patrick W. Gallagher and Zhuowen Tu)[https://arxiv.org/pdf/1509.08985v2.pdf] with an accuracy of **98.31**. "
   ]
  },
  {
   "cell_type": "markdown",
   "metadata": {},
   "source": [
    "-----------\n",
    "\n",
    "**Before submitting, ask yourself. . .**\n",
    "\n",
    "- Does the project report you’ve written follow a well-organized structure similar to that of the project template?\n",
    "- Is each section (particularly **Analysis** and **Methodology**) written in a clear, concise and specific fashion? Are there any ambiguous terms or phrases that need clarification?\n",
    "- Would the intended audience of your project be able to understand your analysis, methods, and results?\n",
    "- Have you properly proof-read your project report to assure there are minimal grammatical and spelling mistakes?\n",
    "- Are all the resources used for this project correctly cited and referenced?\n",
    "- Is the code that implements your solution easily readable and properly commented?\n",
    "- Does the code execute without error and produce results similar to those reported?"
   ]
  }
 ],
 "metadata": {
  "anaconda-cloud": {},
  "kernelspec": {
   "display_name": "Python [conda env:CarND-TensorFlow-Lab]",
   "language": "python",
   "name": "conda-env-CarND-TensorFlow-Lab-py"
  },
  "language_info": {
   "codemirror_mode": {
    "name": "ipython",
    "version": 3
   },
   "file_extension": ".py",
   "mimetype": "text/x-python",
   "name": "python",
   "nbconvert_exporter": "python",
   "pygments_lexer": "ipython3",
   "version": "3.5.2"
  }
 },
 "nbformat": 4,
 "nbformat_minor": 1
}
